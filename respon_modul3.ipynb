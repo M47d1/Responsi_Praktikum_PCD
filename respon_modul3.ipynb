{
 "cells": [
  {
   "cell_type": "code",
   "execution_count": 1,
   "metadata": {},
   "outputs": [],
   "source": [
    "import cv2\n",
    "import numpy as np\n",
    "import matplotlib.pyplot as plt"
   ]
  },
  {
   "cell_type": "code",
   "execution_count": null,
   "metadata": {},
   "outputs": [
    {
     "name": "stderr",
     "output_type": "stream",
     "text": [
      "[ WARN:0@2.597] global loadsave.cpp:268 findDecoder imread_('masjid_al_haram.jpeg'): can't open/read file: check file path/integrity\n"
     ]
    },
    {
     "ename": "AttributeError",
     "evalue": "'NoneType' object has no attribute 'astype'",
     "output_type": "error",
     "traceback": [
      "\u001b[31m---------------------------------------------------------------------------\u001b[39m",
      "\u001b[31mAttributeError\u001b[39m                            Traceback (most recent call last)",
      "\u001b[36mCell\u001b[39m\u001b[36m \u001b[39m\u001b[32mIn[2]\u001b[39m\u001b[32m, line 5\u001b[39m\n\u001b[32m      2\u001b[39m image = cv2.imread(\u001b[33m'\u001b[39m\u001b[33mmasjid_al_haram.jpeg\u001b[39m\u001b[33m'\u001b[39m, cv2.IMREAD_GRAYSCALE)\n\u001b[32m      4\u001b[39m \u001b[38;5;66;03m# Konversi ke float agar hasil presisi\u001b[39;00m\n\u001b[32m----> \u001b[39m\u001b[32m5\u001b[39m image = \u001b[43mimage\u001b[49m\u001b[43m.\u001b[49m\u001b[43mastype\u001b[49m(np.float32)\n\u001b[32m      7\u001b[39m \u001b[38;5;66;03m# Filter Haar 1D\u001b[39;00m\n\u001b[32m      8\u001b[39m low_filter = np.array([\u001b[32m1\u001b[39m/np.sqrt(\u001b[32m2\u001b[39m), \u001b[32m1\u001b[39m/np.sqrt(\u001b[32m2\u001b[39m)], dtype=np.float32)\n",
      "\u001b[31mAttributeError\u001b[39m: 'NoneType' object has no attribute 'astype'"
     ]
    }
   ],
   "source": [
    "\n",
    "# Membaca citra dalam grayscale\n",
    "image = cv2.imread('Assets/masjid_al_haram.jpeg', cv2.IMREAD_GRAYSCALE)\n",
    "\n",
    "# Konversi ke float agar hasil presisi\n",
    "image = image.astype(np.float32)\n",
    "\n",
    "# Filter Haar 1D\n",
    "low_filter = np.array([1/np.sqrt(2), 1/np.sqrt(2)], dtype=np.float32)\n",
    "high_filter = np.array([1/np.sqrt(2), -1/np.sqrt(2)], dtype=np.float32)\n",
    "\n",
    "def downsample(image):\n",
    "    return image[:, ::2]  # Ambil setiap 2 kolom\n",
    "\n",
    "def filter_and_downsample(image, filt, axis):\n",
    "    if axis == 0:  # baris\n",
    "        filtered = cv2.filter2D(image, -1, filt.reshape(-1, 1), borderType=cv2.BORDER_REPLICATE)\n",
    "        return filtered[::2, :]\n",
    "    elif axis == 1:  # kolom\n",
    "        filtered = cv2.filter2D(image, -1, filt.reshape(1, -1), borderType=cv2.BORDER_REPLICATE)\n",
    "        return filtered[:, ::2]\n",
    "\n",
    "# LL: low-pass baris lalu low-pass kolom\n",
    "ll_temp = filter_and_downsample(image, low_filter, axis=0)\n",
    "LL = filter_and_downsample(ll_temp, low_filter, axis=1)\n",
    "\n",
    "# LH: low-pass baris lalu high-pass kolom\n",
    "lh_temp = filter_and_downsample(image, low_filter, axis=0)\n",
    "LH = filter_and_downsample(lh_temp, high_filter, axis=1)\n",
    "\n",
    "# HL: high-pass baris lalu low-pass kolom\n",
    "hl_temp = filter_and_downsample(image, high_filter, axis=0)\n",
    "HL = filter_and_downsample(hl_temp, low_filter, axis=1)\n",
    "\n",
    "# HH: high-pass baris lalu high-pass kolom\n",
    "hh_temp = filter_and_downsample(image, high_filter, axis=0)\n",
    "HH = filter_and_downsample(hh_temp, high_filter, axis=1)\n",
    "\n",
    "# Visualisasi hasil dekomposisi\n",
    "plt.figure(figsize=(10, 8))\n",
    "titles = ['Approximation (LL)', 'Horizontal detail (LH)',\n",
    "        'Vertical detail (HL)', 'Diagonal detail (HH)']\n",
    "for i, comp in enumerate([LL, LH, HL, HH]):\n",
    "    plt.subplot(2, 2, i+1)\n",
    "    plt.imshow(comp, cmap='gray')\n",
    "    plt.title(titles[i])\n",
    "    plt.axis('off')\n",
    "plt.tight_layout()\n",
    "plt.show()"
   ]
  }
 ],
 "metadata": {
  "kernelspec": {
   "display_name": "Python 3",
   "language": "python",
   "name": "python3"
  },
  "language_info": {
   "codemirror_mode": {
    "name": "ipython",
    "version": 3
   },
   "file_extension": ".py",
   "mimetype": "text/x-python",
   "name": "python",
   "nbconvert_exporter": "python",
   "pygments_lexer": "ipython3",
   "version": "3.13.3"
  }
 },
 "nbformat": 4,
 "nbformat_minor": 2
}
